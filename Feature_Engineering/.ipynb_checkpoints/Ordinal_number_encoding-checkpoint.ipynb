{
 "cells": [
  {
   "cell_type": "markdown",
   "metadata": {},
   "source": [
    "## Ordinal Number Encoding\n",
    "\n",
    "In ordinal nuber encoding, each unique category is assigned an integer value.\n",
    "\n",
    "For example, \"red\" is 1 and \"bule\" is 2 and \"black\" is 3.\n",
    "\n",
    "This is called ordinal number encoding or an integer encoding and is easily reversible often integer values starting at 0 are used.\n",
    "\n",
    "By default, it will allot numbers to marks in the request that is seen in the information. In the event that a particular request is wanted, it tends to be indicated by means of the \"classes\" contention as a rundown with the rank request of every normal mark.\n",
    "\n",
    "We can show the utilization of this class by changing over shadings classifications \"red\", \"green\" and \"blue\" into whole numbers. First the classes are arranged at that point numbers are applied. For strings, this implies the marks are arranged sequentially and that black=0, blue=1 and red=2."
   ]
  },
  {
   "cell_type": "code",
   "execution_count": 1,
   "metadata": {},
   "outputs": [],
   "source": [
    "import pandas as pd\n",
    "import numpy as np\n",
    "import datetime"
   ]
  },
  {
   "cell_type": "code",
   "execution_count": 2,
   "metadata": {},
   "outputs": [
    {
     "data": {
      "text/plain": [
       "datetime.datetime(2021, 1, 17, 19, 39, 28, 955250)"
      ]
     },
     "execution_count": 2,
     "metadata": {},
     "output_type": "execute_result"
    }
   ],
   "source": [
    "datetime.datetime.today()"
   ]
  },
  {
   "cell_type": "code",
   "execution_count": 3,
   "metadata": {},
   "outputs": [
    {
     "data": {
      "text/plain": [
       "datetime.datetime(2021, 1, 14, 19, 39, 30, 77631)"
      ]
     },
     "execution_count": 3,
     "metadata": {},
     "output_type": "execute_result"
    }
   ],
   "source": [
    "datetime.datetime.today() - datetime.timedelta(3) # to find the three days back date information "
   ]
  },
  {
   "cell_type": "code",
   "execution_count": 4,
   "metadata": {},
   "outputs": [
    {
     "data": {
      "text/plain": [
       "[datetime.datetime(2021, 1, 17, 19, 39, 30, 258361),\n",
       " datetime.datetime(2021, 1, 16, 19, 39, 30, 258361),\n",
       " datetime.datetime(2021, 1, 15, 19, 39, 30, 258361),\n",
       " datetime.datetime(2021, 1, 14, 19, 39, 30, 258361),\n",
       " datetime.datetime(2021, 1, 13, 19, 39, 30, 258361),\n",
       " datetime.datetime(2021, 1, 12, 19, 39, 30, 258361),\n",
       " datetime.datetime(2021, 1, 11, 19, 39, 30, 258361),\n",
       " datetime.datetime(2021, 1, 10, 19, 39, 30, 258361),\n",
       " datetime.datetime(2021, 1, 9, 19, 39, 30, 258361),\n",
       " datetime.datetime(2021, 1, 8, 19, 39, 30, 258361),\n",
       " datetime.datetime(2021, 1, 7, 19, 39, 30, 258361),\n",
       " datetime.datetime(2021, 1, 6, 19, 39, 30, 258361),\n",
       " datetime.datetime(2021, 1, 5, 19, 39, 30, 258361),\n",
       " datetime.datetime(2021, 1, 4, 19, 39, 30, 258361),\n",
       " datetime.datetime(2021, 1, 3, 19, 39, 30, 258361),\n",
       " datetime.datetime(2021, 1, 2, 19, 39, 30, 258361),\n",
       " datetime.datetime(2021, 1, 1, 19, 39, 30, 258361),\n",
       " datetime.datetime(2020, 12, 31, 19, 39, 30, 258361),\n",
       " datetime.datetime(2020, 12, 30, 19, 39, 30, 258361),\n",
       " datetime.datetime(2020, 12, 29, 19, 39, 30, 258361)]"
      ]
     },
     "execution_count": 4,
     "metadata": {},
     "output_type": "execute_result"
    }
   ],
   "source": [
    "days = [datetime.datetime.today() - datetime.timedelta(i) for i in range(20)]\n",
    "days"
   ]
  },
  {
   "cell_type": "code",
   "execution_count": 5,
   "metadata": {},
   "outputs": [
    {
     "data": {
      "text/html": [
       "<div>\n",
       "<style scoped>\n",
       "    .dataframe tbody tr th:only-of-type {\n",
       "        vertical-align: middle;\n",
       "    }\n",
       "\n",
       "    .dataframe tbody tr th {\n",
       "        vertical-align: top;\n",
       "    }\n",
       "\n",
       "    .dataframe thead th {\n",
       "        text-align: right;\n",
       "    }\n",
       "</style>\n",
       "<table border=\"1\" class=\"dataframe\">\n",
       "  <thead>\n",
       "    <tr style=\"text-align: right;\">\n",
       "      <th></th>\n",
       "      <th>Date</th>\n",
       "    </tr>\n",
       "  </thead>\n",
       "  <tbody>\n",
       "    <tr>\n",
       "      <th>0</th>\n",
       "      <td>2021-01-17 19:39:30.258361</td>\n",
       "    </tr>\n",
       "    <tr>\n",
       "      <th>1</th>\n",
       "      <td>2021-01-16 19:39:30.258361</td>\n",
       "    </tr>\n",
       "    <tr>\n",
       "      <th>2</th>\n",
       "      <td>2021-01-15 19:39:30.258361</td>\n",
       "    </tr>\n",
       "    <tr>\n",
       "      <th>3</th>\n",
       "      <td>2021-01-14 19:39:30.258361</td>\n",
       "    </tr>\n",
       "    <tr>\n",
       "      <th>4</th>\n",
       "      <td>2021-01-13 19:39:30.258361</td>\n",
       "    </tr>\n",
       "  </tbody>\n",
       "</table>\n",
       "</div>"
      ],
      "text/plain": [
       "                        Date\n",
       "0 2021-01-17 19:39:30.258361\n",
       "1 2021-01-16 19:39:30.258361\n",
       "2 2021-01-15 19:39:30.258361\n",
       "3 2021-01-14 19:39:30.258361\n",
       "4 2021-01-13 19:39:30.258361"
      ]
     },
     "execution_count": 5,
     "metadata": {},
     "output_type": "execute_result"
    }
   ],
   "source": [
    "df = pd.DataFrame(data=days,columns=[\"Date\"])\n",
    "df.head()"
   ]
  },
  {
   "cell_type": "code",
   "execution_count": 6,
   "metadata": {},
   "outputs": [],
   "source": [
    "df[\"Week_days\"] = df[\"Date\"].dt.day_name() # to get day name for all days"
   ]
  },
  {
   "cell_type": "code",
   "execution_count": 7,
   "metadata": {},
   "outputs": [
    {
     "data": {
      "text/html": [
       "<div>\n",
       "<style scoped>\n",
       "    .dataframe tbody tr th:only-of-type {\n",
       "        vertical-align: middle;\n",
       "    }\n",
       "\n",
       "    .dataframe tbody tr th {\n",
       "        vertical-align: top;\n",
       "    }\n",
       "\n",
       "    .dataframe thead th {\n",
       "        text-align: right;\n",
       "    }\n",
       "</style>\n",
       "<table border=\"1\" class=\"dataframe\">\n",
       "  <thead>\n",
       "    <tr style=\"text-align: right;\">\n",
       "      <th></th>\n",
       "      <th>Date</th>\n",
       "      <th>Week_days</th>\n",
       "    </tr>\n",
       "  </thead>\n",
       "  <tbody>\n",
       "    <tr>\n",
       "      <th>0</th>\n",
       "      <td>2021-01-17 19:39:30.258361</td>\n",
       "      <td>Sunday</td>\n",
       "    </tr>\n",
       "    <tr>\n",
       "      <th>1</th>\n",
       "      <td>2021-01-16 19:39:30.258361</td>\n",
       "      <td>Saturday</td>\n",
       "    </tr>\n",
       "    <tr>\n",
       "      <th>2</th>\n",
       "      <td>2021-01-15 19:39:30.258361</td>\n",
       "      <td>Friday</td>\n",
       "    </tr>\n",
       "    <tr>\n",
       "      <th>3</th>\n",
       "      <td>2021-01-14 19:39:30.258361</td>\n",
       "      <td>Thursday</td>\n",
       "    </tr>\n",
       "    <tr>\n",
       "      <th>4</th>\n",
       "      <td>2021-01-13 19:39:30.258361</td>\n",
       "      <td>Wednesday</td>\n",
       "    </tr>\n",
       "  </tbody>\n",
       "</table>\n",
       "</div>"
      ],
      "text/plain": [
       "                        Date  Week_days\n",
       "0 2021-01-17 19:39:30.258361     Sunday\n",
       "1 2021-01-16 19:39:30.258361   Saturday\n",
       "2 2021-01-15 19:39:30.258361     Friday\n",
       "3 2021-01-14 19:39:30.258361   Thursday\n",
       "4 2021-01-13 19:39:30.258361  Wednesday"
      ]
     },
     "execution_count": 7,
     "metadata": {},
     "output_type": "execute_result"
    }
   ],
   "source": [
    "df.head()"
   ]
  },
  {
   "cell_type": "code",
   "execution_count": 8,
   "metadata": {},
   "outputs": [
    {
     "data": {
      "text/plain": [
       "{'Monday': 1,\n",
       " 'Tuesday': 2,\n",
       " 'Wednesday': 3,\n",
       " 'Thursday': 4,\n",
       " 'Friday': 5,\n",
       " 'Saturday': 6,\n",
       " 'Sunday': 7}"
      ]
     },
     "execution_count": 8,
     "metadata": {},
     "output_type": "execute_result"
    }
   ],
   "source": [
    "days_name = {\"Monday\":1, \"Tuesday\":2, \"Wednesday\":3, \"Thursday\":4, \"Friday\":5, \"Saturday\":6, \"Sunday\":7}\n",
    "days_name"
   ]
  },
  {
   "cell_type": "code",
   "execution_count": 9,
   "metadata": {},
   "outputs": [
    {
     "data": {
      "text/html": [
       "<div>\n",
       "<style scoped>\n",
       "    .dataframe tbody tr th:only-of-type {\n",
       "        vertical-align: middle;\n",
       "    }\n",
       "\n",
       "    .dataframe tbody tr th {\n",
       "        vertical-align: top;\n",
       "    }\n",
       "\n",
       "    .dataframe thead th {\n",
       "        text-align: right;\n",
       "    }\n",
       "</style>\n",
       "<table border=\"1\" class=\"dataframe\">\n",
       "  <thead>\n",
       "    <tr style=\"text-align: right;\">\n",
       "      <th></th>\n",
       "      <th>Date</th>\n",
       "      <th>Week_days</th>\n",
       "      <th>Ordinal_encoded</th>\n",
       "    </tr>\n",
       "  </thead>\n",
       "  <tbody>\n",
       "    <tr>\n",
       "      <th>0</th>\n",
       "      <td>2021-01-17 19:39:30.258361</td>\n",
       "      <td>Sunday</td>\n",
       "      <td>7</td>\n",
       "    </tr>\n",
       "    <tr>\n",
       "      <th>1</th>\n",
       "      <td>2021-01-16 19:39:30.258361</td>\n",
       "      <td>Saturday</td>\n",
       "      <td>6</td>\n",
       "    </tr>\n",
       "    <tr>\n",
       "      <th>2</th>\n",
       "      <td>2021-01-15 19:39:30.258361</td>\n",
       "      <td>Friday</td>\n",
       "      <td>5</td>\n",
       "    </tr>\n",
       "    <tr>\n",
       "      <th>3</th>\n",
       "      <td>2021-01-14 19:39:30.258361</td>\n",
       "      <td>Thursday</td>\n",
       "      <td>4</td>\n",
       "    </tr>\n",
       "    <tr>\n",
       "      <th>4</th>\n",
       "      <td>2021-01-13 19:39:30.258361</td>\n",
       "      <td>Wednesday</td>\n",
       "      <td>3</td>\n",
       "    </tr>\n",
       "  </tbody>\n",
       "</table>\n",
       "</div>"
      ],
      "text/plain": [
       "                        Date  Week_days  Ordinal_encoded\n",
       "0 2021-01-17 19:39:30.258361     Sunday                7\n",
       "1 2021-01-16 19:39:30.258361   Saturday                6\n",
       "2 2021-01-15 19:39:30.258361     Friday                5\n",
       "3 2021-01-14 19:39:30.258361   Thursday                4\n",
       "4 2021-01-13 19:39:30.258361  Wednesday                3"
      ]
     },
     "execution_count": 9,
     "metadata": {},
     "output_type": "execute_result"
    }
   ],
   "source": [
    "df[\"Ordinal_encoded\"] = df[\"Week_days\"].map(days_name)\n",
    "df.head()"
   ]
  },
  {
   "cell_type": "markdown",
   "metadata": {},
   "source": [
    "# OR\n",
    "\n",
    "We can us the OrdinalEncoder inbuilt function to do this job but the issue with this is that it will change the values in an arranged order or in sorted order. \n",
    "\n",
    "i.e. {'Sunday', 'Saturday', 'Friday', 'Thursday', 'Wednesday', 'Tuesday','Monday'} all the days will be first arranged in sorted order {'Friday', 'Monday', 'Saturday', 'Sunday', 'Thursday', 'Tuesday', 'Wednesday'} and then they will be assigned numbers as per there apperance i.e. {'Friday':0, 'Monday':1, 'Saturday':2, 'Sunday':3, 'Thursday':4, 'Tuesday':5, 'Wednesday':6}"
   ]
  },
  {
   "cell_type": "code",
   "execution_count": 10,
   "metadata": {},
   "outputs": [],
   "source": [
    "days = [datetime.datetime.today() - datetime.timedelta(i) for i in range(20)]\n",
    "#days"
   ]
  },
  {
   "cell_type": "code",
   "execution_count": 11,
   "metadata": {},
   "outputs": [
    {
     "data": {
      "text/html": [
       "<div>\n",
       "<style scoped>\n",
       "    .dataframe tbody tr th:only-of-type {\n",
       "        vertical-align: middle;\n",
       "    }\n",
       "\n",
       "    .dataframe tbody tr th {\n",
       "        vertical-align: top;\n",
       "    }\n",
       "\n",
       "    .dataframe thead th {\n",
       "        text-align: right;\n",
       "    }\n",
       "</style>\n",
       "<table border=\"1\" class=\"dataframe\">\n",
       "  <thead>\n",
       "    <tr style=\"text-align: right;\">\n",
       "      <th></th>\n",
       "      <th>Date</th>\n",
       "      <th>Week_days</th>\n",
       "    </tr>\n",
       "  </thead>\n",
       "  <tbody>\n",
       "    <tr>\n",
       "      <th>0</th>\n",
       "      <td>2021-01-17 19:39:30.937922</td>\n",
       "      <td>Sunday</td>\n",
       "    </tr>\n",
       "    <tr>\n",
       "      <th>1</th>\n",
       "      <td>2021-01-16 19:39:30.937922</td>\n",
       "      <td>Saturday</td>\n",
       "    </tr>\n",
       "    <tr>\n",
       "      <th>2</th>\n",
       "      <td>2021-01-15 19:39:30.937922</td>\n",
       "      <td>Friday</td>\n",
       "    </tr>\n",
       "    <tr>\n",
       "      <th>3</th>\n",
       "      <td>2021-01-14 19:39:30.937922</td>\n",
       "      <td>Thursday</td>\n",
       "    </tr>\n",
       "    <tr>\n",
       "      <th>4</th>\n",
       "      <td>2021-01-13 19:39:30.937922</td>\n",
       "      <td>Wednesday</td>\n",
       "    </tr>\n",
       "  </tbody>\n",
       "</table>\n",
       "</div>"
      ],
      "text/plain": [
       "                        Date  Week_days\n",
       "0 2021-01-17 19:39:30.937922     Sunday\n",
       "1 2021-01-16 19:39:30.937922   Saturday\n",
       "2 2021-01-15 19:39:30.937922     Friday\n",
       "3 2021-01-14 19:39:30.937922   Thursday\n",
       "4 2021-01-13 19:39:30.937922  Wednesday"
      ]
     },
     "execution_count": 11,
     "metadata": {},
     "output_type": "execute_result"
    }
   ],
   "source": [
    "df2 = pd.DataFrame(data=days,columns=[\"Date\"])\n",
    "df2[\"Week_days\"] = df[\"Date\"].dt.day_name()\n",
    "df2.head()"
   ]
  },
  {
   "cell_type": "code",
   "execution_count": 12,
   "metadata": {},
   "outputs": [
    {
     "name": "stdout",
     "output_type": "stream",
     "text": [
      "['Friday', 'Monday', 'Saturday', 'Sunday', 'Thursday', 'Tuesday', 'Wednesday']\n"
     ]
    }
   ],
   "source": [
    "c = list(df2[\"Week_days\"].unique())\n",
    "c.sort()\n",
    "print(c)"
   ]
  },
  {
   "cell_type": "code",
   "execution_count": 13,
   "metadata": {},
   "outputs": [],
   "source": [
    "from sklearn.preprocessing import OrdinalEncoder"
   ]
  },
  {
   "cell_type": "code",
   "execution_count": 14,
   "metadata": {},
   "outputs": [],
   "source": [
    "o_encoder = OrdinalEncoder()\n",
    "x = np.array(df2[\"Week_days\"]).reshape(-1,1)\n",
    "days_column = o_encoder.fit_transform(x)\n",
    "days_column = pd.DataFrame(data=days_column, columns=[\"Ordinal_encoded\"])\n",
    "df2 = pd.concat([df2,days_column],axis=1)"
   ]
  },
  {
   "cell_type": "code",
   "execution_count": 15,
   "metadata": {},
   "outputs": [
    {
     "data": {
      "text/html": [
       "<div>\n",
       "<style scoped>\n",
       "    .dataframe tbody tr th:only-of-type {\n",
       "        vertical-align: middle;\n",
       "    }\n",
       "\n",
       "    .dataframe tbody tr th {\n",
       "        vertical-align: top;\n",
       "    }\n",
       "\n",
       "    .dataframe thead th {\n",
       "        text-align: right;\n",
       "    }\n",
       "</style>\n",
       "<table border=\"1\" class=\"dataframe\">\n",
       "  <thead>\n",
       "    <tr style=\"text-align: right;\">\n",
       "      <th></th>\n",
       "      <th>Date</th>\n",
       "      <th>Week_days</th>\n",
       "      <th>Ordinal_encoded</th>\n",
       "    </tr>\n",
       "  </thead>\n",
       "  <tbody>\n",
       "    <tr>\n",
       "      <th>0</th>\n",
       "      <td>2021-01-17 19:39:30.937922</td>\n",
       "      <td>Sunday</td>\n",
       "      <td>3.0</td>\n",
       "    </tr>\n",
       "    <tr>\n",
       "      <th>1</th>\n",
       "      <td>2021-01-16 19:39:30.937922</td>\n",
       "      <td>Saturday</td>\n",
       "      <td>2.0</td>\n",
       "    </tr>\n",
       "    <tr>\n",
       "      <th>2</th>\n",
       "      <td>2021-01-15 19:39:30.937922</td>\n",
       "      <td>Friday</td>\n",
       "      <td>0.0</td>\n",
       "    </tr>\n",
       "    <tr>\n",
       "      <th>3</th>\n",
       "      <td>2021-01-14 19:39:30.937922</td>\n",
       "      <td>Thursday</td>\n",
       "      <td>4.0</td>\n",
       "    </tr>\n",
       "    <tr>\n",
       "      <th>4</th>\n",
       "      <td>2021-01-13 19:39:30.937922</td>\n",
       "      <td>Wednesday</td>\n",
       "      <td>6.0</td>\n",
       "    </tr>\n",
       "    <tr>\n",
       "      <th>5</th>\n",
       "      <td>2021-01-12 19:39:30.937922</td>\n",
       "      <td>Tuesday</td>\n",
       "      <td>5.0</td>\n",
       "    </tr>\n",
       "    <tr>\n",
       "      <th>6</th>\n",
       "      <td>2021-01-11 19:39:30.937922</td>\n",
       "      <td>Monday</td>\n",
       "      <td>1.0</td>\n",
       "    </tr>\n",
       "    <tr>\n",
       "      <th>7</th>\n",
       "      <td>2021-01-10 19:39:30.937922</td>\n",
       "      <td>Sunday</td>\n",
       "      <td>3.0</td>\n",
       "    </tr>\n",
       "    <tr>\n",
       "      <th>8</th>\n",
       "      <td>2021-01-09 19:39:30.937922</td>\n",
       "      <td>Saturday</td>\n",
       "      <td>2.0</td>\n",
       "    </tr>\n",
       "    <tr>\n",
       "      <th>9</th>\n",
       "      <td>2021-01-08 19:39:30.937922</td>\n",
       "      <td>Friday</td>\n",
       "      <td>0.0</td>\n",
       "    </tr>\n",
       "    <tr>\n",
       "      <th>10</th>\n",
       "      <td>2021-01-07 19:39:30.937922</td>\n",
       "      <td>Thursday</td>\n",
       "      <td>4.0</td>\n",
       "    </tr>\n",
       "    <tr>\n",
       "      <th>11</th>\n",
       "      <td>2021-01-06 19:39:30.937922</td>\n",
       "      <td>Wednesday</td>\n",
       "      <td>6.0</td>\n",
       "    </tr>\n",
       "    <tr>\n",
       "      <th>12</th>\n",
       "      <td>2021-01-05 19:39:30.937922</td>\n",
       "      <td>Tuesday</td>\n",
       "      <td>5.0</td>\n",
       "    </tr>\n",
       "    <tr>\n",
       "      <th>13</th>\n",
       "      <td>2021-01-04 19:39:30.937922</td>\n",
       "      <td>Monday</td>\n",
       "      <td>1.0</td>\n",
       "    </tr>\n",
       "    <tr>\n",
       "      <th>14</th>\n",
       "      <td>2021-01-03 19:39:30.937922</td>\n",
       "      <td>Sunday</td>\n",
       "      <td>3.0</td>\n",
       "    </tr>\n",
       "    <tr>\n",
       "      <th>15</th>\n",
       "      <td>2021-01-02 19:39:30.937922</td>\n",
       "      <td>Saturday</td>\n",
       "      <td>2.0</td>\n",
       "    </tr>\n",
       "    <tr>\n",
       "      <th>16</th>\n",
       "      <td>2021-01-01 19:39:30.937922</td>\n",
       "      <td>Friday</td>\n",
       "      <td>0.0</td>\n",
       "    </tr>\n",
       "    <tr>\n",
       "      <th>17</th>\n",
       "      <td>2020-12-31 19:39:30.937922</td>\n",
       "      <td>Thursday</td>\n",
       "      <td>4.0</td>\n",
       "    </tr>\n",
       "    <tr>\n",
       "      <th>18</th>\n",
       "      <td>2020-12-30 19:39:30.937922</td>\n",
       "      <td>Wednesday</td>\n",
       "      <td>6.0</td>\n",
       "    </tr>\n",
       "    <tr>\n",
       "      <th>19</th>\n",
       "      <td>2020-12-29 19:39:30.937922</td>\n",
       "      <td>Tuesday</td>\n",
       "      <td>5.0</td>\n",
       "    </tr>\n",
       "  </tbody>\n",
       "</table>\n",
       "</div>"
      ],
      "text/plain": [
       "                         Date  Week_days  Ordinal_encoded\n",
       "0  2021-01-17 19:39:30.937922     Sunday              3.0\n",
       "1  2021-01-16 19:39:30.937922   Saturday              2.0\n",
       "2  2021-01-15 19:39:30.937922     Friday              0.0\n",
       "3  2021-01-14 19:39:30.937922   Thursday              4.0\n",
       "4  2021-01-13 19:39:30.937922  Wednesday              6.0\n",
       "5  2021-01-12 19:39:30.937922    Tuesday              5.0\n",
       "6  2021-01-11 19:39:30.937922     Monday              1.0\n",
       "7  2021-01-10 19:39:30.937922     Sunday              3.0\n",
       "8  2021-01-09 19:39:30.937922   Saturday              2.0\n",
       "9  2021-01-08 19:39:30.937922     Friday              0.0\n",
       "10 2021-01-07 19:39:30.937922   Thursday              4.0\n",
       "11 2021-01-06 19:39:30.937922  Wednesday              6.0\n",
       "12 2021-01-05 19:39:30.937922    Tuesday              5.0\n",
       "13 2021-01-04 19:39:30.937922     Monday              1.0\n",
       "14 2021-01-03 19:39:30.937922     Sunday              3.0\n",
       "15 2021-01-02 19:39:30.937922   Saturday              2.0\n",
       "16 2021-01-01 19:39:30.937922     Friday              0.0\n",
       "17 2020-12-31 19:39:30.937922   Thursday              4.0\n",
       "18 2020-12-30 19:39:30.937922  Wednesday              6.0\n",
       "19 2020-12-29 19:39:30.937922    Tuesday              5.0"
      ]
     },
     "execution_count": 15,
     "metadata": {},
     "output_type": "execute_result"
    }
   ],
   "source": [
    "df2.head(20)"
   ]
  },
  {
   "cell_type": "code",
   "execution_count": null,
   "metadata": {},
   "outputs": [],
   "source": []
  }
 ],
 "metadata": {
  "kernelspec": {
   "display_name": "Python 3",
   "language": "python",
   "name": "python3"
  },
  "language_info": {
   "codemirror_mode": {
    "name": "ipython",
    "version": 3
   },
   "file_extension": ".py",
   "mimetype": "text/x-python",
   "name": "python",
   "nbconvert_exporter": "python",
   "pygments_lexer": "ipython3",
   "version": "3.7.6"
  }
 },
 "nbformat": 4,
 "nbformat_minor": 4
}
