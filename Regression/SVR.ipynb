{
 "cells": [
  {
   "cell_type": "markdown",
   "id": "d1297c9a-3a1c-48f7-bea4-74d7002da57e",
   "metadata": {},
   "source": [
    "# SVR -> Support Vecector Regressor"
   ]
  },
  {
   "attachments": {
    "2440bcca-3c02-49f6-9c8b-62947548a732.png": {
     "image/png": "[encoded data removed]"
    }
   },
   "cell_type": "markdown",
   "id": "7b70e98c-0dd4-4801-aaa4-2c8e2e1bac75",
   "metadata": {},
   "source": [
    "Before geting started with Support vector Regressor, fit lets have a look on support vector machine (SVM).\n",
    "\n",
    "So SVM is a supervised learning model widly used in classification problems. So what actualy SVM does is it finds a __line or hyperplane(in multidimentional space or n dimentional space)__ in order to seperate two classes. The data points on either side of the line is known as the __support vectors__.\n",
    "\n",
    "##### Hyperperameters of SVM\n",
    "\n",
    "1. Hyperplane\n",
    "\n",
    "Hyperplanes are decision boundaries that is used to predict the continuous output. The data points on either side of the hyperplane that are closest to the hyperplane are called Support Vectors. These are used to plot the required line that shows the predicted output of the algorithm.\n",
    "\n",
    "2. Kernal\n",
    "\n",
    "A kernel is a set of mathematical functions that takes data as input and transform it into the required form. These are generally used for finding a hyperplane in the higher dimensional space.The most widely used kernels include __Linear, Non-Linear, Polynomial, Radial Basis Function (RBF) and Sigmoid__. By default, RBF is used as the kernel. Each kernal depends on the dataset.\n",
    "\n",
    "3. Boundry Line\n",
    "\n",
    "These are the two lines that are drawn around the hyperplane at a distance of __ε (epsilon)__. It is used to create a margin between the data points.\n",
    "\n",
    "![image.png](attachment:2440bcca-3c02-49f6-9c8b-62947548a732.png)\n",
    "\n"
   ]
  },
  {
   "cell_type": "markdown",
   "id": "42e34342-cd7f-4512-977e-1f114a646287",
   "metadata": {},
   "source": [
    "### <b> SVR </b>\n",
    "\n",
    "The Support Vector Regression is a supervised learning algorithm that relies on the SVM principle the idea behing SVR is to find the best fit line. In SVR, the best fit line is the hyperplane that has the maximum number of points.\n",
    "\n",
    "Unlike other Regression models that try to minimize the error between the real and predicted value, the SVR tries to fit the best line within a threshold value. The threshold value is the distance between the hyperplane and boundary line.\n",
    "\n",
    "__For large datasets, Linear SVR or SGD Regressor is used__. Linear SVR provides a faster implementation than SVR but only considers the linear kernel. The model produced by Support Vector Regression depends only on a subset of the training data, because the cost function ignores samples whose prediction is close to their target."
   ]
  },
  {
   "cell_type": "code",
   "execution_count": null,
   "id": "b9641fb2-0bbe-44c0-abb6-9e13a4e95ada",
   "metadata": {},
   "outputs": [],
   "source": []
  },
  {
   "cell_type": "markdown",
   "id": "40a87d48-da20-4351-8657-bf06a1f33211",
   "metadata": {},
   "source": [
    "#### Importing Modules"
   ]
  },
  {
   "cell_type": "code",
   "execution_count": 1,
   "id": "14ff1564-e5cc-49b5-ab67-e56c4d7a09b3",
   "metadata": {},
   "outputs": [],
   "source": [
    "import pandas as pd\n",
    "import numpy as np\n",
    "import matplotlib.pyplot as plt\n"
   ]
  },
  {
   "cell_type": "markdown",
   "id": "3976ce9d-6b5d-41b2-9363-0d7546d9d0a1",
   "metadata": {},
   "source": [
    "#### Importing the dataset"
   ]
  },
  {
   "cell_type": "code",
   "execution_count": 2,
   "id": "a687ec27-0880-40e9-9684-29d674914262",
   "metadata": {},
   "outputs": [
    {
     "data": {
      "text/html": [
       "<div>\n",
       "<style scoped>\n",
       "    .dataframe tbody tr th:only-of-type {\n",
       "        vertical-align: middle;\n",
       "    }\n",
       "\n",
       "    .dataframe tbody tr th {\n",
       "        vertical-align: top;\n",
       "    }\n",
       "\n",
       "    .dataframe thead th {\n",
       "        text-align: right;\n",
       "    }\n",
       "</style>\n",
       "<table border=\"1\" class=\"dataframe\">\n",
       "  <thead>\n",
       "    <tr style=\"text-align: right;\">\n",
       "      <th></th>\n",
       "      <th>Position</th>\n",
       "      <th>Level</th>\n",
       "      <th>Salary</th>\n",
       "    </tr>\n",
       "  </thead>\n",
       "  <tbody>\n",
       "    <tr>\n",
       "      <th>0</th>\n",
       "      <td>Business Analyst</td>\n",
       "      <td>1</td>\n",
       "      <td>45000</td>\n",
       "    </tr>\n",
       "    <tr>\n",
       "      <th>1</th>\n",
       "      <td>Junior Consultant</td>\n",
       "      <td>2</td>\n",
       "      <td>50000</td>\n",
       "    </tr>\n",
       "    <tr>\n",
       "      <th>2</th>\n",
       "      <td>Senior Consultant</td>\n",
       "      <td>3</td>\n",
       "      <td>60000</td>\n",
       "    </tr>\n",
       "    <tr>\n",
       "      <th>3</th>\n",
       "      <td>Manager</td>\n",
       "      <td>4</td>\n",
       "      <td>80000</td>\n",
       "    </tr>\n",
       "    <tr>\n",
       "      <th>4</th>\n",
       "      <td>Country Manager</td>\n",
       "      <td>5</td>\n",
       "      <td>110000</td>\n",
       "    </tr>\n",
       "  </tbody>\n",
       "</table>\n",
       "</div>"
      ],
      "text/plain": [
       "            Position  Level  Salary\n",
       "0   Business Analyst      1   45000\n",
       "1  Junior Consultant      2   50000\n",
       "2  Senior Consultant      3   60000\n",
       "3            Manager      4   80000\n",
       "4    Country Manager      5  110000"
      ]
     },
     "execution_count": 2,
     "metadata": {},
     "output_type": "execute_result"
    }
   ],
   "source": [
    "dataset = pd.read_csv(\"Position_Salaries.csv\")\n",
    "dataset.head()"
   ]
  },
  {
   "cell_type": "markdown",
   "id": "070464f3-c2f2-44bb-a630-bddf2dd5cb2a",
   "metadata": {},
   "source": [
    "#### Seperating independent and dependent variable\n"
   ]
  },
  {
   "cell_type": "code",
   "execution_count": 3,
   "id": "f87bba18-3fb3-46a9-9985-f12daa6dd542",
   "metadata": {},
   "outputs": [],
   "source": [
    "X = dataset.iloc[:, 1:-1].values\n",
    "y = dataset.iloc[:, -1].values.reshape(-1,1) # we have used reshape just to convert the data to vertical form."
   ]
  },
  {
   "cell_type": "markdown",
   "id": "5a4319fd-d75e-4e2b-840e-94d862b76c05",
   "metadata": {},
   "source": [
    "#### Feature Scaling\n",
    "\n",
    "Here we will perform feature scalling for both X and y seperetly.\n"
   ]
  },
  {
   "cell_type": "code",
   "execution_count": 4,
   "id": "d883f711-ab30-4f39-9d7e-b6a558e71ac8",
   "metadata": {},
   "outputs": [],
   "source": [
    "from sklearn.preprocessing import StandardScaler\n",
    "\n",
    "ss_X = StandardScaler()\n",
    "ss_y = StandardScaler()\n",
    "\n",
    "X = ss_X.fit_transform(X)\n",
    "y = ss_y.fit_transform(y)"
   ]
  },
  {
   "cell_type": "markdown",
   "id": "de945409-2264-413d-8dab-bc745828b668",
   "metadata": {},
   "source": [
    "#### Training the SVR model on the whole dataset."
   ]
  },
  {
   "cell_type": "code",
   "execution_count": 5,
   "id": "5ee7a8e1-c619-41fc-a04b-abe4411fc7b8",
   "metadata": {},
   "outputs": [
    {
     "name": "stderr",
     "output_type": "stream",
     "text": [
      "c:\\users\\jay\\appdata\\local\\programs\\python\\python38\\lib\\site-packages\\sklearn\\utils\\validation.py:985: DataConversionWarning: A column-vector y was passed when a 1d array was expected. Please change the shape of y to (n_samples, ), for example using ravel().\n",
      "  y = column_or_1d(y, warn=True)\n"
     ]
    },
    {
     "data": {
      "text/plain": [
       "SVR()"
      ]
     },
     "execution_count": 5,
     "metadata": {},
     "output_type": "execute_result"
    }
   ],
   "source": [
    "from sklearn.svm import SVR\n",
    "\n",
    "svr = SVR(kernel = 'rbf')\n",
    "svr.fit(X,y)"
   ]
  },
  {
   "cell_type": "markdown",
   "id": "36f97675-1a53-4160-9ddd-606741f49d05",
   "metadata": {},
   "source": [
    "#### Predicting new value using the model\n",
    "\n",
    "Since we have trained the model in featured scaled data so it will give the output in that range only, so inorder to get the output in original form we have to apply Inverse Feature scalling\n",
    "\n",
    "Since we have trained the model in featured scaled data so to predict output for a new input we will have to provide the input in scaled format."
   ]
  },
  {
   "cell_type": "code",
   "execution_count": 6,
   "id": "03fbbff9-b701-499a-9ecb-34592427ad6e",
   "metadata": {},
   "outputs": [
    {
     "name": "stdout",
     "output_type": "stream",
     "text": [
      "[-0.27861589]\n",
      "[[170370.0204065]]\n"
     ]
    }
   ],
   "source": [
    "y_predict = svr.predict(ss_X.transform([[6.5]])) \n",
    "print(y_predict) #without inverse transformaation\n",
    "\n",
    "# applying inverse scaling to get the original output\n",
    "\n",
    "print(ss_y.inverse_transform([y_predict]))"
   ]
  },
  {
   "cell_type": "markdown",
   "id": "aca17963-dcee-4cb8-97a0-47aa3d403771",
   "metadata": {},
   "source": [
    "#### Visualising the SVR result"
   ]
  },
  {
   "cell_type": "code",
   "execution_count": 7,
   "id": "90cc1be8-ef15-4d72-9506-55310727593c",
   "metadata": {},
   "outputs": [
    {
     "data": {
      "image/png": "[encoded data removed]",
      "text/plain": [
       "<Figure size 432x288 with 1 Axes>"
      ]
     },
     "metadata": {
      "needs_background": "light"
     },
     "output_type": "display_data"
    }
   ],
   "source": [
    "plt.scatter(ss_X.inverse_transform(X),ss_y.inverse_transform(y),color=\"blue\")\n",
    "plt.plot(ss_X.inverse_transform(X), ss_y.inverse_transform(svr.predict(X).reshape(-1,1)), color=\"red\")\n",
    "plt.xlabel('Position level')\n",
    "plt.ylabel('Salary')\n",
    "plt.show()"
   ]
  },
  {
   "cell_type": "markdown",
   "id": "f81c7e13-2de2-474d-ac64-b821e4abe36a",
   "metadata": {},
   "source": [
    "#### Visualising the SVR result (for smoother curve)"
   ]
  },
  {
   "cell_type": "code",
   "execution_count": 8,
   "id": "df916985-afd0-487c-ba05-234eb3d48c3a",
   "metadata": {},
   "outputs": [
    {
     "data": {
      "image/png": "[encoded data removed]",
      "text/plain": [
       "<Figure size 432x288 with 1 Axes>"
      ]
     },
     "metadata": {
      "needs_background": "light"
     },
     "output_type": "display_data"
    }
   ],
   "source": [
    "X_grid = np.arange(min(ss_X.inverse_transform(X)), max(ss_X.inverse_transform(X)), 0.1)\n",
    "X_grid = X_grid.reshape((len(X_grid), 1))\n",
    "plt.scatter(ss_X.inverse_transform(X),ss_y.inverse_transform(y),color=\"blue\")\n",
    "plt.plot(X_grid, ss_y.inverse_transform(svr.predict(ss_X.transform(X_grid)).reshape(-1,1)), color=\"red\")\n",
    "plt.xlabel('Position level')\n",
    "plt.ylabel('Salary')\n",
    "plt.show()"
   ]
  },
  {
   "cell_type": "code",
   "execution_count": null,
   "id": "faadbd3a-8a5d-43f2-bea8-aba5e818c219",
   "metadata": {},
   "outputs": [],
   "source": []
  }
 ],
 "metadata": {
  "kernelspec": {
   "display_name": "Python 3 (ipykernel)",
   "language": "python",
   "name": "python3"
  },
  "language_info": {
   "codemirror_mode": {
    "name": "ipython",
    "version": 3
   },
   "file_extension": ".py",
   "mimetype": "text/x-python",
   "name": "python",
   "nbconvert_exporter": "python",
   "pygments_lexer": "ipython3",
   "version": "3.8.1"
  }
 },
 "nbformat": 4,
 "nbformat_minor": 5
}
