{
 "cells": [
  {
   "cell_type": "markdown",
   "id": "3c86b07d-b980-46e4-9aad-386467f7c7fe",
   "metadata": {},
   "source": [
    "# Polynimial Linear Regression"
   ]
  },
  {
   "cell_type": "code",
   "execution_count": 1,
   "id": "71a9d8a5-6867-4a6f-8a76-94fb22b037bc",
   "metadata": {},
   "outputs": [],
   "source": [
    "import pandas as pd\n",
    "import numpy as np"
   ]
  },
  {
   "cell_type": "code",
   "execution_count": 2,
   "id": "f467a8ec-f065-4f56-87b1-4a153f462ff7",
   "metadata": {},
   "outputs": [],
   "source": [
    "import matplotlib.pyplot as plt"
   ]
  },
  {
   "cell_type": "markdown",
   "id": "1f8fbdd8-6985-49f4-a593-b4f4782657ae",
   "metadata": {},
   "source": [
    "#### Creating own x and y"
   ]
  },
  {
   "cell_type": "code",
   "execution_count": 3,
   "id": "da6f67d3-783c-4a6b-bde9-3a64db2b8c75",
   "metadata": {},
   "outputs": [
    {
     "data": {
      "text/html": [
       "<div>\n",
       "<style scoped>\n",
       "    .dataframe tbody tr th:only-of-type {\n",
       "        vertical-align: middle;\n",
       "    }\n",
       "\n",
       "    .dataframe tbody tr th {\n",
       "        vertical-align: top;\n",
       "    }\n",
       "\n",
       "    .dataframe thead th {\n",
       "        text-align: right;\n",
       "    }\n",
       "</style>\n",
       "<table border=\"1\" class=\"dataframe\">\n",
       "  <thead>\n",
       "    <tr style=\"text-align: right;\">\n",
       "      <th></th>\n",
       "      <th>Position</th>\n",
       "      <th>Level</th>\n",
       "      <th>Salary</th>\n",
       "    </tr>\n",
       "  </thead>\n",
       "  <tbody>\n",
       "    <tr>\n",
       "      <th>0</th>\n",
       "      <td>Business Analyst</td>\n",
       "      <td>1</td>\n",
       "      <td>45000</td>\n",
       "    </tr>\n",
       "    <tr>\n",
       "      <th>1</th>\n",
       "      <td>Junior Consultant</td>\n",
       "      <td>2</td>\n",
       "      <td>50000</td>\n",
       "    </tr>\n",
       "    <tr>\n",
       "      <th>2</th>\n",
       "      <td>Senior Consultant</td>\n",
       "      <td>3</td>\n",
       "      <td>60000</td>\n",
       "    </tr>\n",
       "    <tr>\n",
       "      <th>3</th>\n",
       "      <td>Manager</td>\n",
       "      <td>4</td>\n",
       "      <td>80000</td>\n",
       "    </tr>\n",
       "    <tr>\n",
       "      <th>4</th>\n",
       "      <td>Country Manager</td>\n",
       "      <td>5</td>\n",
       "      <td>110000</td>\n",
       "    </tr>\n",
       "  </tbody>\n",
       "</table>\n",
       "</div>"
      ],
      "text/plain": [
       "            Position  Level  Salary\n",
       "0   Business Analyst      1   45000\n",
       "1  Junior Consultant      2   50000\n",
       "2  Senior Consultant      3   60000\n",
       "3            Manager      4   80000\n",
       "4    Country Manager      5  110000"
      ]
     },
     "execution_count": 3,
     "metadata": {},
     "output_type": "execute_result"
    }
   ],
   "source": [
    "dataset = pd.read_csv(\"Position_Salaries.csv\")\n",
    "dataset.head()"
   ]
  },
  {
   "cell_type": "code",
   "execution_count": 4,
   "id": "6985d1f7-d8f9-4b7a-87ee-bceba93a1536",
   "metadata": {},
   "outputs": [],
   "source": [
    "X = dataset.iloc[:, 1:-1]\n",
    "y = dataset.iloc[:,-1]"
   ]
  },
  {
   "cell_type": "markdown",
   "id": "30a7fffa-87c5-4fe1-84be-769a9f5eb0cf",
   "metadata": {},
   "source": [
    "#### Visualizing the data\n"
   ]
  },
  {
   "cell_type": "code",
   "execution_count": 5,
   "id": "e9c87163-878a-465b-ac64-5152baec0dbe",
   "metadata": {},
   "outputs": [
    {
     "data": {
      "image/png": "[encoded data removed]",
      "text/plain": [
       "<Figure size 432x288 with 1 Axes>"
      ]
     },
     "metadata": {
      "needs_background": "light"
     },
     "output_type": "display_data"
    }
   ],
   "source": [
    "plt.plot(X, y, 'b.')\n",
    "plt.xlabel(\"X\")\n",
    "plt.ylabel(\"Y\")\n",
    "plt.show()"
   ]
  },
  {
   "cell_type": "markdown",
   "id": "44c63663-8690-4265-9058-df61ba66d945",
   "metadata": {},
   "source": [
    "__NOTE:__\n",
    "\n",
    "Polynomial regression is a form of linear regression where only due to the Non-linear relationship between dependent and independent variables we add some polynomial terms to linear regression to convert it into Polynomial regression.\n",
    "\n",
    "__$$ y = a0 + a1x1 + a2x1^2 + … + anx1^n $$__\n",
    "\n",
    "Since we are dealing with polynomial linear regression we have to be concern about the drgree we use if we use high degree of polynimial model will try to overfit and if we use small degree model will try to underfit. So we have to choose the optimal value for degree. \n"
   ]
  },
  {
   "cell_type": "code",
   "execution_count": 6,
   "id": "df9ef390-eb32-4955-b7d0-184e2bfd7a12",
   "metadata": {},
   "outputs": [],
   "source": [
    "#z = 6 * np.random.rand(200, 1) - 3\n",
    "#z"
   ]
  },
  {
   "cell_type": "markdown",
   "id": "1652746c-1ce7-46da-9ad4-a5d5f02589bf",
   "metadata": {},
   "source": [
    "#### Spliting into Train set and Test set."
   ]
  },
  {
   "cell_type": "code",
   "execution_count": 7,
   "id": "a9655f8c-9d05-4568-b339-a02b8532b58f",
   "metadata": {},
   "outputs": [],
   "source": [
    "#from sklearn.model_selection import train_test_split\n",
    "\n",
    "#X_train, X_test, y_train, y_test = train_test_split(X, y, test_size=0.2, random_state=42) "
   ]
  },
  {
   "cell_type": "markdown",
   "id": "b9d8f6a0-ae5c-42d2-b04b-8c3ffeb857e2",
   "metadata": {},
   "source": [
    "#### Applying simple Linear Regression"
   ]
  },
  {
   "cell_type": "code",
   "execution_count": 8,
   "id": "fc15ba88-c318-4650-90e2-1a16bd55de89",
   "metadata": {},
   "outputs": [
    {
     "data": {
      "text/plain": [
       "LinearRegression()"
      ]
     },
     "execution_count": 8,
     "metadata": {},
     "output_type": "execute_result"
    }
   ],
   "source": [
    "from sklearn.linear_model import LinearRegression\n",
    "\n",
    "lr = LinearRegression()\n",
    "lr.fit(X, y)\n",
    "#y_pred = lr.predict(X_test)"
   ]
  },
  {
   "cell_type": "markdown",
   "id": "d0264482-0aa9-4649-a96d-0e9a26601fc0",
   "metadata": {},
   "source": [
    "#### Visualizing Simple Linear regression"
   ]
  },
  {
   "cell_type": "code",
   "execution_count": 9,
   "id": "202c6843-392b-4f87-9a3c-f0494be63506",
   "metadata": {},
   "outputs": [
    {
     "data": {
      "image/png": "[encoded data removed]",
      "text/plain": [
       "<Figure size 432x288 with 1 Axes>"
      ]
     },
     "metadata": {
      "needs_background": "light"
     },
     "output_type": "display_data"
    }
   ],
   "source": [
    "plt.plot(X, y, \"b.\")\n",
    "plt.plot(X, lr.predict(X), color=\"r\", label=\"Prediction\")\n",
    "plt.xlabel(\"X\")\n",
    "plt.ylabel(\"Y\")\n",
    "plt.legend()\n",
    "plt.show()"
   ]
  },
  {
   "cell_type": "markdown",
   "id": "44dc00f0-528e-42ac-854f-57f154693bf4",
   "metadata": {},
   "source": [
    "#### Applying Polynomial Regression"
   ]
  },
  {
   "cell_type": "code",
   "execution_count": 10,
   "id": "f4401222-39b9-4540-8ddc-e5b099176c58",
   "metadata": {},
   "outputs": [
    {
     "data": {
      "text/plain": [
       "LinearRegression()"
      ]
     },
     "execution_count": 10,
     "metadata": {},
     "output_type": "execute_result"
    }
   ],
   "source": [
    "from sklearn.preprocessing import PolynomialFeatures\n",
    "\n",
    "poly = PolynomialFeatures(degree=2)\n",
    "x_poly = poly.fit_transform(X)\n",
    "\n",
    "\n",
    "plr = LinearRegression()\n",
    "plr.fit(x_poly, y)\n"
   ]
  },
  {
   "cell_type": "markdown",
   "id": "0592d90b-c01e-4b34-972c-c343215539a4",
   "metadata": {},
   "source": [
    "#### Visualizing Polynomial Regression\n"
   ]
  },
  {
   "cell_type": "code",
   "execution_count": 15,
   "id": "50defceb-8b4f-4562-91a0-dd051bd7eed4",
   "metadata": {},
   "outputs": [
    {
     "data": {
      "image/png": "[encoded data removed]",
      "text/plain": [
       "<Figure size 432x288 with 1 Axes>"
      ]
     },
     "metadata": {
      "needs_background": "light"
     },
     "output_type": "display_data"
    }
   ],
   "source": [
    "plt.plot(X,y,\"b.\")\n",
    "plt.plot(X, plr.predict(poly.fit_transform(X)), color=\"red\", label=\"Prediction\")\n",
    "plt.xlabel(\"X\")\n",
    "plt.ylabel(\"Y\")\n",
    "plt.legend()\n",
    "plt.show()"
   ]
  },
  {
   "cell_type": "code",
   "execution_count": null,
   "id": "142f4dc2-ab2b-417e-b2b5-d55b81486651",
   "metadata": {},
   "outputs": [],
   "source": []
  },
  {
   "cell_type": "code",
   "execution_count": null,
   "id": "54c9aa6a-c0d4-42fb-affb-881f7b5ff62b",
   "metadata": {},
   "outputs": [],
   "source": []
  }
 ],
 "metadata": {
  "kernelspec": {
   "display_name": "Python 3 (ipykernel)",
   "language": "python",
   "name": "python3"
  },
  "language_info": {
   "codemirror_mode": {
    "name": "ipython",
    "version": 3
   },
   "file_extension": ".py",
   "mimetype": "text/x-python",
   "name": "python",
   "nbconvert_exporter": "python",
   "pygments_lexer": "ipython3",
   "version": "3.8.1"
  }
 },
 "nbformat": 4,
 "nbformat_minor": 5
}
